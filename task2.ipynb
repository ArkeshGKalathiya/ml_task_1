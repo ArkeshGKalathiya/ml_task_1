{
 "cells": [
  {
   "cell_type": "code",
   "execution_count": 13,
   "metadata": {},
   "outputs": [],
   "source": [
    "import os\n",
    "import requests\n",
    "import re\n",
    "import sys\n",
    "from bs4 import BeautifulSoup"
   ]
  },
  {
   "cell_type": "code",
   "execution_count": 14,
   "metadata": {},
   "outputs": [],
   "source": [
    "def get_page():\n",
    "\tglobal url\n",
    "\t\n",
    "\t# Code here - Ask the user to input \"Enter url of a medium article: \" and collect it in url\n",
    "\turl = input('Enter medium url:\\n')\n",
    "\t# Code ends here\n",
    "\t\n",
    "\t# handling possible error\n",
    "\tif not re.match(r'https?://medium.com/',url):\n",
    "\t\tprint('Please enter a valid website, or make sure it is a medium article')\n",
    "\t\tsys.exit(1)\n",
    "\n",
    "\t# Code here - Call get method in requests object, pass url and collect it in res\n",
    "\tres = requests.get(url)\n",
    "\t# Code ends here\n",
    "\n",
    "\tres.raise_for_status()\n",
    "\tsoup = BeautifulSoup(res.text, 'html.parser')\n",
    "\treturn soup"
   ]
  },
  {
   "cell_type": "code",
   "execution_count": 15,
   "metadata": {},
   "outputs": [],
   "source": [
    "# function to remove all the html tags and replace some with specific strings\n",
    "def clean(text):\n",
    "    rep = {\"<br>\": \"\\n\", \"<br/>\": \"\\n\", \"<li>\":  \"\\n\"}\n",
    "    rep = dict((re.escape(k), v) for k, v in rep.items()) \n",
    "    pattern = re.compile(\"|\".join(rep.keys()))\n",
    "    text = pattern.sub(lambda m: rep[re.escape(m.group(0))], text)\n",
    "    text = re.sub('\\<(.*?)\\>', '', text)\n",
    "    return text\n"
   ]
  },
  {
   "cell_type": "code",
   "execution_count": 16,
   "metadata": {},
   "outputs": [],
   "source": [
    "def collect_text(soup):\n",
    "\ttext = f'url: {url}\\n\\n'\n",
    "\tpara_text = soup.find_all('p')\n",
    "\tprint(f\"paragraphs text = \\n {para_text}\")\n",
    "\tfor para in para_text:\n",
    "\t\ttext += f\"{para.text}\\n\\n\"\n",
    "\treturn text"
   ]
  },
  {
   "cell_type": "code",
   "execution_count": 17,
   "metadata": {},
   "outputs": [],
   "source": [
    "def save_file(text):\n",
    "\tif not os.path.exists('./scraped_articles'):\n",
    "\t\tos.mkdir('./scraped_articles')\n",
    "\tname = url.split(\"/\")[-1]\n",
    "\tfname = f'scraped_articles/{name}.txt'\n",
    "\t\n",
    "\t# Code here - write a file using with (2 lines)\n",
    "\twith open(fname,'w') as file:\n",
    "\t\tfile.write(text)\n",
    "\t# Code ends here\n",
    "\n",
    "\tprint(f'File saved in directory {fname}')"
   ]
  },
  {
   "cell_type": "code",
   "execution_count": 18,
   "metadata": {},
   "outputs": [
    {
     "name": "stdout",
     "output_type": "stream",
     "text": [
      "paragraphs text = \n",
      " [<p class=\"bm b bn bo fs ft fu fv fw fx fy fz ga\">The Haven</p>, <p class=\"pw-published-date bm b bn bo cn\"><span>Aug 27</span></p>, <p class=\"bm b bn bo cn\">Member-only</p>, <p class=\"pw-post-body-paragraph mj mk je ml b mm mn kf mo mp mq ki mr lw ms mt mu ma mv mw mx me my mz na nb ix ga\" id=\"f9ba\">As you are aware, our establishment was recently visited by a group of individuals who removed numerous boxes from the second-floor linen closet, the DJ booth in…</p>, <p class=\"bm b hi bo cn\"><span class=\"nr\">--</span></p>, <p class=\"bm b hi bo cn\"><span class=\"nr\">--</span></p>, <p class=\"bm b bn bo cn\"><span class=\"pw-responses-count on oj oo\">29</span></p>, <p class=\"bm b bn bo cn\">A Place to Be Funny Without Being a Jerk</p>, <p class=\"bm b hi bo fs ft fu fv fw fx fy fz ga\">Nicholas Butler</p>, <p class=\"bm b hi bo fs ft fu fv fw fx fy fz ga\">LATEEF ISMAILA JAMES</p>, <p class=\"bm b hi bo fs ft fu fv fw fx fy fz ga\">David Rudder</p>, <p class=\"bm b hi bo cn\">in</p>, <p class=\"bm b hi bo fs ft fu fv fw fx fy fz ga\">daylightnightlite</p>, <p class=\"bm b hi bo fs ft fu fv fw fx fy fz ga\">Alexa Kocinski</p>, <p class=\"bm b hi bo cn\">in</p>, <p class=\"bm b hi bo fs ft fu fv fw fx fy fz ga\">Slackjaw</p>, <p class=\"bm b hi bo fs ft fu fv fw fx fy fz ga\">Nathan Belcher</p>, <p class=\"bm b hi bo fs ft fu fv fw fx fy fz ga\">Eirik Kvalheim</p>, <p class=\"bm b hi bo fs ft fu fv fw fx fy fz ga\">Sam2019</p>, <p class=\"bm b hi bo fs ft fu fv fw fx fy fz ga\">Nwaoma007</p>, <p class=\"bm b hi bo rt\"><a class=\"au av aw ax ay az ba bb bc bd ru bg rp rq rv\" href=\"https://medium.com/about?autoplay=1&amp;source=post_page-----5c0f95f63f3--------------------------------\" rel=\"noopener follow\">About</a><a class=\"au av aw ax ay az ba bb bc bd ru bg rp rq rv\" href=\"https://help.medium.com/hc/en-us?source=post_page-----5c0f95f63f3--------------------------------\" rel=\"noopener follow\">Help</a><a class=\"au av aw ax ay az ba bb bc bd ru bg rp rq rv\" href=\"https://policy.medium.com/medium-terms-of-service-9db0094a1e0f?source=post_page-----5c0f95f63f3--------------------------------\" rel=\"noopener follow\">Terms</a><a class=\"au av aw ax ay az ba bb bc bd ru bg rp rq\" href=\"https://policy.medium.com/medium-privacy-policy-f03bf92035c9?source=post_page-----5c0f95f63f3--------------------------------\" rel=\"noopener follow\">Privacy</a></p>, <p class=\"bm b bn bo cn\">Dilettante, smartass, apocalypticist. ***See “Lists” for stories by genre.***</p>, <p class=\"bm b sw sx cn\">Help</p>, <p class=\"bm b sw sx cn\">Status</p>, <p class=\"bm b sw sx cn\">Writers</p>, <p class=\"bm b sw sx cn\">Blog</p>, <p class=\"bm b sw sx cn\">Careers</p>, <p class=\"bm b sw sx cn\">Privacy</p>, <p class=\"bm b sw sx cn\">Terms</p>, <p class=\"bm b sw sx cn\">About</p>, <p class=\"bm b sw sx cn\">Knowable</p>]\n",
      "File saved in directory scraped_articles/memo-to-all-housekeeping-kitchen-and-dining-room-staff-at-mar-a-lago-5c0f95f63f3.txt\n"
     ]
    }
   ],
   "source": [
    "if __name__ == '__main__':\n",
    "\ttext = collect_text(get_page())\n",
    "\tsave_file(text)"
   ]
  }
 ],
 "metadata": {
  "kernelspec": {
   "display_name": "Python 3.8.9 64-bit",
   "language": "python",
   "name": "python3"
  },
  "language_info": {
   "codemirror_mode": {
    "name": "ipython",
    "version": 3
   },
   "file_extension": ".py",
   "mimetype": "text/x-python",
   "name": "python",
   "nbconvert_exporter": "python",
   "pygments_lexer": "ipython3",
   "version": "3.8.9"
  },
  "orig_nbformat": 4,
  "vscode": {
   "interpreter": {
    "hash": "31f2aee4e71d21fbe5cf8b01ff0e069b9275f58929596ceb00d14d90e3e16cd6"
   }
  }
 },
 "nbformat": 4,
 "nbformat_minor": 2
}
